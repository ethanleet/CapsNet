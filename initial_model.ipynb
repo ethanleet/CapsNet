{
 "cells": [
  {
   "cell_type": "code",
   "execution_count": 2,
   "metadata": {},
   "outputs": [],
   "source": [
    "import torch\n",
    "import torch.nn as nn\n",
    "import numpy as np\n",
    "from torch.autograd import Variable\n",
    "import time\n",
    "USE_GPU = True\n",
    "from model import *\n",
    "from data_loaders import load_mnist\n",
    "from tools import weights_init_xavier\n",
    "from stats import Statistics\n",
    "import matplotlib.pyplot as plt\n",
    "import os.path as path\n",
    "SAVE_DIR = \"saved_models\"\n",
    "FILENAME = \"modelk.pt\""
   ]
  },
  {
   "cell_type": "code",
   "execution_count": 3,
   "metadata": {},
   "outputs": [],
   "source": [
    "def initialize_weights(capsnet):\n",
    "  capsnet.conv_layer.conv.apply(weights_init_xavier)\n",
    "  capsnet.primary_capsules.apply(weights_init_xavier)\n",
    "  capsnet.decoder.apply(weights_init_xavier)\n",
    "  #nn.init.xavier_normal_(capsnet.digit_caps.W)"
   ]
  },
  {
   "cell_type": "code",
   "execution_count": 4,
   "metadata": {},
   "outputs": [],
   "source": [
    "capsnet = CapsNet(reconstruction_type=\"FC\") # FC or Conv\n",
    "if USE_GPU:\n",
    "  capsnet.cuda()\n",
    "optimizer = torch.optim.Adam(capsnet.parameters())"
   ]
  },
  {
   "cell_type": "code",
   "execution_count": 5,
   "metadata": {},
   "outputs": [
    {
     "name": "stdout",
     "output_type": "stream",
     "text": [
      "Saved model not found; Model initialized.\n"
     ]
    }
   ],
   "source": [
    "filepath = path.join(SAVE_DIR, FILENAME)\n",
    "if path.isfile(filepath):\n",
    "  print(\"Saved model found\")\n",
    "  capsnet.load_state_dict(torch.load(filepath))\n",
    "else:\n",
    "  print(\"Saved model not found; Model initialized.\")\n",
    "  initialize_weights(capsnet)"
   ]
  },
  {
   "cell_type": "code",
   "execution_count": 6,
   "metadata": {},
   "outputs": [],
   "source": [
    "\"\"\"Hyperparameters\"\"\"\n",
    "max_epochs = 1000\n",
    "batch_size = 128\n",
    "train_loader, test_loader = load_mnist(batch_size)"
   ]
  },
  {
   "cell_type": "code",
   "execution_count": 7,
   "metadata": {},
   "outputs": [],
   "source": [
    "import time\n",
    "import numpy as np\n",
    "\n",
    "class Statistics:\n",
    "  \n",
    "  def __init__(self):\n",
    "    self.TEST_LOSSES = []\n",
    "    self.TRAIN_LOSSES = []\n",
    "    self.TEST_ACC = []\n",
    "\n",
    "    self.reset_tracking_stats()\n",
    "  \n",
    "  def reset_tracking_stats(self):\n",
    "    self.train_loss = 0\n",
    "    self.train_steps = 0\n",
    "    self.test_loss = 0\n",
    "    self.test_steps = 0\n",
    "    self.test_correct = 0\n",
    "    self.test_num_samples = 0\n",
    "    self.time = time.time()    \n",
    "    \n",
    "  def track_train(self, train_loss):\n",
    "    self.train_steps += 1\n",
    "    self.train_loss += train_loss\n",
    "\n",
    "  def track_test(self, test_loss, target, prediction):\n",
    "    # Calculate accuracy\n",
    "    self.test_correct += (target.max(dim=1)[1] == prediction.max(dim=1)[1]).sum().item()\n",
    "    self.test_num_samples += target.size(0)\n",
    "\n",
    "    # Track test loss\n",
    "    self.test_steps += 1\n",
    "    self.test_loss += test_loss\n",
    "  \n",
    "  def save_stats(self, epoch):\n",
    "    time_spent = time.time() - self.time\n",
    "    train_loss = self.train_loss / self.train_steps\n",
    "    test_loss = self.test_loss / self.test_steps\n",
    "    test_acc = self.test_correct / self.test_num_samples\n",
    "    self.TEST_ACC.append(test_acc)\n",
    "    self.TEST_LOSSES.append(test_loss)\n",
    "    self.TRAIN_LOSSES.append(train_loss)\n",
    "    print(\"Epoch: {:3.0f} \\t Time: {:3.0f} \\t Test: {:.3f} \\t Train: {:.3f} \\t Accuracy: {:3.4f}\".format(epoch, time_spent, test_loss, train_loss, test_acc*100))\n",
    "    self.reset_tracking_stats()\n",
    "    "
   ]
  },
  {
   "cell_type": "code",
   "execution_count": null,
   "metadata": {
    "scrolled": false
   },
   "outputs": [],
   "source": [
    "stats = Statistics()\n",
    "display_step = 450\n",
    "\n",
    "for epoch in range(max_epochs):\n",
    "  capsnet.train()\n",
    "  for batch, (data, target) in list(enumerate(train_loader)):\n",
    "    target = torch.eye(10).index_select(dim=0, index=target)\n",
    "    data, target = Variable(data), Variable(target)\n",
    "    if USE_GPU:\n",
    "      data, target = data.cuda(), target.cuda()\n",
    "    \n",
    "    optimizer.zero_grad()\n",
    "    \n",
    "    output, reconstructions, masked = capsnet(data, target)\n",
    "    loss = capsnet.loss(data, target, output, reconstructions)\n",
    "    \n",
    "    loss.backward()\n",
    "    optimizer.step()\n",
    "    \n",
    "    stats.track_train(loss.data.item())\n",
    "    \n",
    "    if batch % display_step == 0 and batch != 0:\n",
    "      capsnet.eval()\n",
    "\n",
    "      for batch_id, (data, target) in enumerate(test_loader):\n",
    "        target = torch.eye(10).index_select(dim=0, index=target)\n",
    "        data, target = Variable(data), Variable(target)\n",
    "        if USE_GPU:\n",
    "          data,target = data.cuda(), target.cuda()\n",
    "\n",
    "        output, reconstructions, masked = capsnet(data)\n",
    "        loss = capsnet.loss(data, target, output, reconstructions)\n",
    "        \n",
    "        stats.track_test(loss.data.item(), target, masked)\n",
    "        \n",
    "      stats.save_stats(epoch)\n",
    "\n",
    "      filepath = path.join(SAVE_DIR, \"model{}.pt\".format(epoch))\n",
    "      torch.save(capsnet.state_dict(), filepath)\n",
    "      capsnet.train()\n",
    "  "
   ]
  },
  {
   "cell_type": "code",
   "execution_count": null,
   "metadata": {},
   "outputs": [],
   "source": [
    "capsnet.eval()\n",
    "data, target = iter(test_loader).next()\n",
    "output, reconstruction, masked = capsnet(data.cuda())"
   ]
  },
  {
   "cell_type": "code",
   "execution_count": null,
   "metadata": {},
   "outputs": [],
   "source": [
    "predictions = torch.max((output**2).sum(dim=2).squeeze(), dim=1)[1].cpu().data.numpy()"
   ]
  },
  {
   "cell_type": "code",
   "execution_count": null,
   "metadata": {},
   "outputs": [],
   "source": [
    "i = 7\n",
    "print(target[i], predictions[i])\n",
    "im = reconstruction[i,0].data.cpu().numpy()\n",
    "im += abs(im.min())\n",
    "im /= im.max()\n",
    "plt.subplot(2,1,1)\n",
    "plt.imshow(im, cmap=\"gray\")\n",
    "im2 = data[i, 0].data.cpu().numpy()\n",
    "im2 += abs(im.min())\n",
    "im2 /= im.max()\n",
    "plt.subplot(2,1,2)\n",
    "plt.imshow(im2, cmap=\"gray\")"
   ]
  },
  {
   "cell_type": "code",
   "execution_count": null,
   "metadata": {},
   "outputs": [],
   "source": []
  },
  {
   "cell_type": "code",
   "execution_count": null,
   "metadata": {},
   "outputs": [],
   "source": []
  }
 ],
 "metadata": {
  "kernelspec": {
   "display_name": "Python 3",
   "language": "python",
   "name": "python3"
  },
  "language_info": {
   "codemirror_mode": {
    "name": "ipython",
    "version": 3
   },
   "file_extension": ".py",
   "mimetype": "text/x-python",
   "name": "python",
   "nbconvert_exporter": "python",
   "pygments_lexer": "ipython3",
   "version": "3.6.4"
  }
 },
 "nbformat": 4,
 "nbformat_minor": 2
}
